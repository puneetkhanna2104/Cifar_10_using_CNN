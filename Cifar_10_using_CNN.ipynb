{
  "nbformat": 4,
  "nbformat_minor": 0,
  "metadata": {
    "colab": {
      "name": "Cifar_10_using_CNN.ipynb",
      "version": "0.3.2",
      "provenance": [],
      "collapsed_sections": []
    },
    "kernelspec": {
      "name": "python3",
      "display_name": "Python 3"
    },
    "accelerator": "TPU"
  },
  "cells": [
    {
      "cell_type": "markdown",
      "metadata": {
        "id": "nrrMPMqlPSfu",
        "colab_type": "text"
      },
      "source": [
        "#Importing data from keras.datasets"
      ]
    },
    {
      "cell_type": "code",
      "metadata": {
        "id": "2nthZNIFOihV",
        "colab_type": "code",
        "outputId": "5b453e99-14df-44da-f3d8-49be8682a306",
        "colab": {
          "base_uri": "https://localhost:8080/",
          "height": 35
        }
      },
      "source": [
        "from keras.datasets import cifar10 "
      ],
      "execution_count": 2,
      "outputs": [
        {
          "output_type": "stream",
          "text": [
            "Using TensorFlow backend.\n"
          ],
          "name": "stderr"
        }
      ]
    },
    {
      "cell_type": "markdown",
      "metadata": {
        "id": "X14kNgmiPZL-",
        "colab_type": "text"
      },
      "source": [
        "##Splitting the data into train and test data \n"
      ]
    },
    {
      "cell_type": "code",
      "metadata": {
        "id": "wts8Aq8GOu2H",
        "colab_type": "code",
        "outputId": "41483e5d-eab3-4a70-f046-b3a04a92f717",
        "colab": {
          "base_uri": "https://localhost:8080/",
          "height": 52
        }
      },
      "source": [
        "(X_train,Y_train),(X_test,Y_test)=cifar10.load_data()"
      ],
      "execution_count": 3,
      "outputs": [
        {
          "output_type": "stream",
          "text": [
            "Downloading data from https://www.cs.toronto.edu/~kriz/cifar-10-python.tar.gz\n",
            "170500096/170498071 [==============================] - 19s 0us/step\n"
          ],
          "name": "stdout"
        }
      ]
    },
    {
      "cell_type": "markdown",
      "metadata": {
        "id": "jTNplgWnPjta",
        "colab_type": "text"
      },
      "source": [
        "## Shape of the data "
      ]
    },
    {
      "cell_type": "code",
      "metadata": {
        "id": "6CHlcO3RO7Ps",
        "colab_type": "code",
        "outputId": "f119f324-7c19-4171-f2ab-d4f4fc537ffb",
        "colab": {
          "base_uri": "https://localhost:8080/",
          "height": 87
        }
      },
      "source": [
        "print(X_train.shape) \n",
        "print(X_test.shape)\n",
        "print(Y_train.shape)\n",
        "print(Y_test.shape)"
      ],
      "execution_count": 4,
      "outputs": [
        {
          "output_type": "stream",
          "text": [
            "(50000, 32, 32, 3)\n",
            "(10000, 32, 32, 3)\n",
            "(50000, 1)\n",
            "(10000, 1)\n"
          ],
          "name": "stdout"
        }
      ]
    },
    {
      "cell_type": "markdown",
      "metadata": {
        "id": "CmzLyimNPrRP",
        "colab_type": "text"
      },
      "source": [
        "### This shows that training data has 50000 images of size (32x32x3):(height,width,depth)\n",
        "### Testing data has 10000 images of size (32x32x3):(height,width,depth)\n",
        "### Y_train and Y_test are the labels for the training and testing data "
      ]
    },
    {
      "cell_type": "code",
      "metadata": {
        "id": "id0-oxQyQ66z",
        "colab_type": "code",
        "outputId": "cec589e3-84e0-453e-fe7e-7c295a47da5f",
        "colab": {
          "base_uri": "https://localhost:8080/",
          "height": 867
        }
      },
      "source": [
        "print(X_train[0])        # Images are in the form of three dimensional arrays "
      ],
      "execution_count": 5,
      "outputs": [
        {
          "output_type": "stream",
          "text": [
            "[[[ 59  62  63]\n",
            "  [ 43  46  45]\n",
            "  [ 50  48  43]\n",
            "  ...\n",
            "  [158 132 108]\n",
            "  [152 125 102]\n",
            "  [148 124 103]]\n",
            "\n",
            " [[ 16  20  20]\n",
            "  [  0   0   0]\n",
            "  [ 18   8   0]\n",
            "  ...\n",
            "  [123  88  55]\n",
            "  [119  83  50]\n",
            "  [122  87  57]]\n",
            "\n",
            " [[ 25  24  21]\n",
            "  [ 16   7   0]\n",
            "  [ 49  27   8]\n",
            "  ...\n",
            "  [118  84  50]\n",
            "  [120  84  50]\n",
            "  [109  73  42]]\n",
            "\n",
            " ...\n",
            "\n",
            " [[208 170  96]\n",
            "  [201 153  34]\n",
            "  [198 161  26]\n",
            "  ...\n",
            "  [160 133  70]\n",
            "  [ 56  31   7]\n",
            "  [ 53  34  20]]\n",
            "\n",
            " [[180 139  96]\n",
            "  [173 123  42]\n",
            "  [186 144  30]\n",
            "  ...\n",
            "  [184 148  94]\n",
            "  [ 97  62  34]\n",
            "  [ 83  53  34]]\n",
            "\n",
            " [[177 144 116]\n",
            "  [168 129  94]\n",
            "  [179 142  87]\n",
            "  ...\n",
            "  [216 184 140]\n",
            "  [151 118  84]\n",
            "  [123  92  72]]]\n"
          ],
          "name": "stdout"
        }
      ]
    },
    {
      "cell_type": "markdown",
      "metadata": {
        "id": "UAlDM7jpQmPK",
        "colab_type": "text"
      },
      "source": [
        "## Normalizing the pixel value\n",
        "### Changing the range of pixel values from (0-255) to (0-1)"
      ]
    },
    {
      "cell_type": "code",
      "metadata": {
        "id": "fCE0a7eTPEB5",
        "colab_type": "code",
        "colab": {}
      },
      "source": [
        "X_train=X_train/255.0\n",
        "X_test=X_test/255.0"
      ],
      "execution_count": 0,
      "outputs": []
    },
    {
      "cell_type": "code",
      "metadata": {
        "id": "hariNntXRLit",
        "colab_type": "code",
        "outputId": "1e598c40-0817-42ec-9b17-3c90d72274a9",
        "colab": {
          "base_uri": "https://localhost:8080/",
          "height": 867
        }
      },
      "source": [
        "print(X_train[0])            # pixel values are in the range (0-1)"
      ],
      "execution_count": 7,
      "outputs": [
        {
          "output_type": "stream",
          "text": [
            "[[[0.23137255 0.24313725 0.24705882]\n",
            "  [0.16862745 0.18039216 0.17647059]\n",
            "  [0.19607843 0.18823529 0.16862745]\n",
            "  ...\n",
            "  [0.61960784 0.51764706 0.42352941]\n",
            "  [0.59607843 0.49019608 0.4       ]\n",
            "  [0.58039216 0.48627451 0.40392157]]\n",
            "\n",
            " [[0.0627451  0.07843137 0.07843137]\n",
            "  [0.         0.         0.        ]\n",
            "  [0.07058824 0.03137255 0.        ]\n",
            "  ...\n",
            "  [0.48235294 0.34509804 0.21568627]\n",
            "  [0.46666667 0.3254902  0.19607843]\n",
            "  [0.47843137 0.34117647 0.22352941]]\n",
            "\n",
            " [[0.09803922 0.09411765 0.08235294]\n",
            "  [0.0627451  0.02745098 0.        ]\n",
            "  [0.19215686 0.10588235 0.03137255]\n",
            "  ...\n",
            "  [0.4627451  0.32941176 0.19607843]\n",
            "  [0.47058824 0.32941176 0.19607843]\n",
            "  [0.42745098 0.28627451 0.16470588]]\n",
            "\n",
            " ...\n",
            "\n",
            " [[0.81568627 0.66666667 0.37647059]\n",
            "  [0.78823529 0.6        0.13333333]\n",
            "  [0.77647059 0.63137255 0.10196078]\n",
            "  ...\n",
            "  [0.62745098 0.52156863 0.2745098 ]\n",
            "  [0.21960784 0.12156863 0.02745098]\n",
            "  [0.20784314 0.13333333 0.07843137]]\n",
            "\n",
            " [[0.70588235 0.54509804 0.37647059]\n",
            "  [0.67843137 0.48235294 0.16470588]\n",
            "  [0.72941176 0.56470588 0.11764706]\n",
            "  ...\n",
            "  [0.72156863 0.58039216 0.36862745]\n",
            "  [0.38039216 0.24313725 0.13333333]\n",
            "  [0.3254902  0.20784314 0.13333333]]\n",
            "\n",
            " [[0.69411765 0.56470588 0.45490196]\n",
            "  [0.65882353 0.50588235 0.36862745]\n",
            "  [0.70196078 0.55686275 0.34117647]\n",
            "  ...\n",
            "  [0.84705882 0.72156863 0.54901961]\n",
            "  [0.59215686 0.4627451  0.32941176]\n",
            "  [0.48235294 0.36078431 0.28235294]]]\n"
          ],
          "name": "stdout"
        }
      ]
    },
    {
      "cell_type": "code",
      "metadata": {
        "id": "hP_6lGNOgPzW",
        "colab_type": "code",
        "outputId": "2f289c67-10e2-44ee-b6b0-af1bac224ab0",
        "colab": {
          "base_uri": "https://localhost:8080/",
          "height": 35
        }
      },
      "source": [
        "# Shape of the images \n",
        "X_train.shape[1:]"
      ],
      "execution_count": 8,
      "outputs": [
        {
          "output_type": "execute_result",
          "data": {
            "text/plain": [
              "(32, 32, 3)"
            ]
          },
          "metadata": {
            "tags": []
          },
          "execution_count": 8
        }
      ]
    },
    {
      "cell_type": "markdown",
      "metadata": {
        "id": "4koX38YQRlaB",
        "colab_type": "text"
      },
      "source": [
        "### Checking the labels of the data "
      ]
    },
    {
      "cell_type": "code",
      "metadata": {
        "id": "Wh82KDJDROJn",
        "colab_type": "code",
        "outputId": "6bbb9747-9651-483d-d060-c79afb4a6196",
        "colab": {
          "base_uri": "https://localhost:8080/",
          "height": 156
        }
      },
      "source": [
        "print(Y_train) \n",
        "\n",
        "type(Y_train)"
      ],
      "execution_count": 9,
      "outputs": [
        {
          "output_type": "stream",
          "text": [
            "[[6]\n",
            " [9]\n",
            " [9]\n",
            " ...\n",
            " [9]\n",
            " [1]\n",
            " [1]]\n"
          ],
          "name": "stdout"
        },
        {
          "output_type": "execute_result",
          "data": {
            "text/plain": [
              "numpy.ndarray"
            ]
          },
          "metadata": {
            "tags": []
          },
          "execution_count": 9
        }
      ]
    },
    {
      "cell_type": "code",
      "metadata": {
        "id": "cqGY1IwFRpwX",
        "colab_type": "code",
        "outputId": "426584ae-edbf-4bbb-9ff1-c8d8dff62ed1",
        "colab": {
          "base_uri": "https://localhost:8080/",
          "height": 35
        }
      },
      "source": [
        "Y_train[0]"
      ],
      "execution_count": 10,
      "outputs": [
        {
          "output_type": "execute_result",
          "data": {
            "text/plain": [
              "array([6], dtype=uint8)"
            ]
          },
          "metadata": {
            "tags": []
          },
          "execution_count": 10
        }
      ]
    },
    {
      "cell_type": "markdown",
      "metadata": {
        "id": "KHmDgHXwSGQU",
        "colab_type": "text"
      },
      "source": [
        "## Labels are in the form of 1D array\n",
        "\n",
        "### Labels are in the form of integers from 0-9 as there are 10 classes.\n",
        "### We have to convert it into one hot vector (i.e vector of length 10).\n",
        "###[0 0 0 0 0 0 1 0 0 0]  This is one hot vector for label 6.\n",
        "here class 6 is the label so 1 is stored at sixth index."
      ]
    },
    {
      "cell_type": "code",
      "metadata": {
        "id": "Mqt4fZOBR15F",
        "colab_type": "code",
        "colab": {}
      },
      "source": [
        "# Keras provides the function (to_categorical) to do one hot encoding \n",
        "from keras.utils import np_utils\n",
        "\n",
        "Y_train=np_utils.to_categorical(Y_train)\n",
        "Y_test=np_utils.to_categorical(Y_test)"
      ],
      "execution_count": 0,
      "outputs": []
    },
    {
      "cell_type": "code",
      "metadata": {
        "id": "KFMf5-nZUpCJ",
        "colab_type": "code",
        "outputId": "492414d1-c2ee-4d72-abe3-249814ef22ee",
        "colab": {
          "base_uri": "https://localhost:8080/",
          "height": 35
        }
      },
      "source": [
        "Y_train[0]"
      ],
      "execution_count": 12,
      "outputs": [
        {
          "output_type": "execute_result",
          "data": {
            "text/plain": [
              "array([0., 0., 0., 0., 0., 0., 1., 0., 0., 0.], dtype=float32)"
            ]
          },
          "metadata": {
            "tags": []
          },
          "execution_count": 12
        }
      ]
    },
    {
      "cell_type": "markdown",
      "metadata": {
        "id": "--NsOEI3VAkz",
        "colab_type": "text"
      },
      "source": [
        "We can see that the label has been changed from 1D to 10D array."
      ]
    },
    {
      "cell_type": "markdown",
      "metadata": {
        "id": "OFFqAGudXqVm",
        "colab_type": "text"
      },
      "source": [
        "# Model using Keras \n",
        "\n",
        "##Importing libraries"
      ]
    },
    {
      "cell_type": "code",
      "metadata": {
        "id": "2_3v1XozU4Jx",
        "colab_type": "code",
        "colab": {}
      },
      "source": [
        "from keras.models import Sequential\n",
        "from keras import layers "
      ],
      "execution_count": 0,
      "outputs": []
    },
    {
      "cell_type": "markdown",
      "metadata": {
        "id": "d9SypvtSZEyA",
        "colab_type": "text"
      },
      "source": [
        "### Creating Variables \n",
        "\n",
        "### Batch_size -\n",
        "batch_size is the number of input samples that will be propogated through the network.\n",
        "For instance, let's say you have 1000 training samples and you want to set up a batch_size equal to 100. The algorithm takes the first 100 samples (from 1st to 100th) from the training dataset and trains the network(updates weights and biases). Next it takes the second 100 samples (from 101st to 200th) and trains the network again. It will have to go through 10 iterations to train the whole dataset. We normally set the batch_size in the powers of 2 like 64, 128, 256 etc because it fits right in the memory of  the CPU or GPU.\n",
        "\n",
        "### Epochs-\n",
        "One Epoch is when an ENTIRE dataset is passed forward and backward through the neural network only ONCE.\n",
        "\n",
        "Since one epoch is too big to feed to the computer at once we divide it in several smaller batches.\n",
        "\n"
      ]
    },
    {
      "cell_type": "code",
      "metadata": {
        "id": "h0-0Wj0rYkBD",
        "colab_type": "code",
        "colab": {}
      },
      "source": [
        "batch_size = 256\n",
        "epochs = 20\n",
        "num_classes = 10    # number of classes in the dataset "
      ],
      "execution_count": 0,
      "outputs": []
    },
    {
      "cell_type": "markdown",
      "metadata": {
        "id": "CV13iaejcTKl",
        "colab_type": "text"
      },
      "source": [
        "### Model\n",
        "\n",
        "### Sequential model\n",
        "The Sequential model is a linear stack of layers.\n",
        "\n",
        "We can add layers by using .add() method.\n"
      ]
    },
    {
      "cell_type": "code",
      "metadata": {
        "id": "O7Gu3EN-LbZ1",
        "colab_type": "code",
        "colab": {}
      },
      "source": [
        "model = Sequential()\n",
        "\n",
        "model.add(layers.Conv2D(32, (3,3), padding='same', activation = 'relu', input_shape = X_train.shape[1:]))\n",
        "\n",
        "model.add(layers.Conv2D(64, (3,3), activation = 'relu'))\n",
        "\n",
        "model.add(layers.MaxPooling2D((2,2)))\n",
        "\n",
        "model.add(layers.Conv2D(64, (3,3), activation = 'relu'))\n",
        "\n",
        "model.add(layers.MaxPooling2D((2,2)))\n",
        "\n",
        "model.add(layers.Dropout(0.25))\n",
        "\n",
        "\n",
        "model.add(layers.Conv2D(128, (3,3), activation = 'relu'))\n",
        "\n",
        "model.add(layers.MaxPooling2D((2,2)))\n",
        "\n",
        "model.add(layers.Dropout(0.25))\n",
        "\n",
        "\n",
        "model.add(layers.Flatten())\n",
        "\n",
        "model.add(layers.Dense(512, activation = 'relu'))\n",
        "\n",
        "model.add(layers.Dense(256, activation = 'relu'))\n",
        "\n",
        "model.add(layers.Dense(num_classes, activation ='softmax'))\n"
      ],
      "execution_count": 0,
      "outputs": []
    },
    {
      "cell_type": "code",
      "metadata": {
        "id": "XZQgYnYgP4n_",
        "colab_type": "code",
        "colab": {
          "base_uri": "https://localhost:8080/",
          "height": 589
        },
        "outputId": "50e18c5e-6184-407f-dc60-a6c5563d92f0"
      },
      "source": [
        "model.summary()"
      ],
      "execution_count": 33,
      "outputs": [
        {
          "output_type": "stream",
          "text": [
            "_________________________________________________________________\n",
            "Layer (type)                 Output Shape              Param #   \n",
            "=================================================================\n",
            "conv2d_49 (Conv2D)           (None, 32, 32, 32)        896       \n",
            "_________________________________________________________________\n",
            "conv2d_50 (Conv2D)           (None, 30, 30, 64)        18496     \n",
            "_________________________________________________________________\n",
            "max_pooling2d_40 (MaxPooling (None, 15, 15, 64)        0         \n",
            "_________________________________________________________________\n",
            "conv2d_51 (Conv2D)           (None, 13, 13, 64)        36928     \n",
            "_________________________________________________________________\n",
            "max_pooling2d_41 (MaxPooling (None, 6, 6, 64)          0         \n",
            "_________________________________________________________________\n",
            "dropout_15 (Dropout)         (None, 6, 6, 64)          0         \n",
            "_________________________________________________________________\n",
            "conv2d_52 (Conv2D)           (None, 4, 4, 128)         73856     \n",
            "_________________________________________________________________\n",
            "max_pooling2d_42 (MaxPooling (None, 2, 2, 128)         0         \n",
            "_________________________________________________________________\n",
            "dropout_16 (Dropout)         (None, 2, 2, 128)         0         \n",
            "_________________________________________________________________\n",
            "flatten_6 (Flatten)          (None, 512)               0         \n",
            "_________________________________________________________________\n",
            "dense_15 (Dense)             (None, 512)               262656    \n",
            "_________________________________________________________________\n",
            "dense_16 (Dense)             (None, 256)               131328    \n",
            "_________________________________________________________________\n",
            "dense_17 (Dense)             (None, 10)                2570      \n",
            "=================================================================\n",
            "Total params: 526,730\n",
            "Trainable params: 526,730\n",
            "Non-trainable params: 0\n",
            "_________________________________________________________________\n"
          ],
          "name": "stdout"
        }
      ]
    },
    {
      "cell_type": "markdown",
      "metadata": {
        "id": "iIccZsZsjDSK",
        "colab_type": "text"
      },
      "source": [
        "## Compiling the model "
      ]
    },
    {
      "cell_type": "code",
      "metadata": {
        "id": "2U6KuXO5jCRy",
        "colab_type": "code",
        "colab": {}
      },
      "source": [
        "from keras.optimizers import rmsprop\n",
        "\n",
        "model.compile(loss='categorical_crossentropy',\n",
        "             optimizer='adam',\n",
        "             metrics=['accuracy'])\n"
      ],
      "execution_count": 0,
      "outputs": []
    },
    {
      "cell_type": "markdown",
      "metadata": {
        "id": "8xZ84qIijt2Q",
        "colab_type": "text"
      },
      "source": [
        "## Training the model "
      ]
    },
    {
      "cell_type": "code",
      "metadata": {
        "id": "d1Vv6WbCisgZ",
        "colab_type": "code",
        "outputId": "fabc1bdf-9d85-4497-8648-d971e453d55a",
        "colab": {
          "base_uri": "https://localhost:8080/",
          "height": 817
        }
      },
      "source": [
        "model.fit(X_train, Y_train, \n",
        "          batch_size = batch_size, \n",
        "          epochs = epochs, \n",
        "          validation_data=(X_test, Y_test), \n",
        "          shuffle=True)"
      ],
      "execution_count": 35,
      "outputs": [
        {
          "output_type": "stream",
          "text": [
            "WARNING:tensorflow:From /usr/local/lib/python3.6/dist-packages/tensorflow/python/ops/math_ops.py:3066: to_int32 (from tensorflow.python.ops.math_ops) is deprecated and will be removed in a future version.\n",
            "Instructions for updating:\n",
            "Use tf.cast instead.\n",
            "Train on 50000 samples, validate on 10000 samples\n",
            "Epoch 1/20\n",
            "50000/50000 [==============================] - 296s 6ms/step - loss: 1.7373 - acc: 0.3513 - val_loss: 1.4004 - val_acc: 0.4874\n",
            "Epoch 2/20\n",
            "50000/50000 [==============================] - 295s 6ms/step - loss: 1.3256 - acc: 0.5174 - val_loss: 1.1880 - val_acc: 0.5731\n",
            "Epoch 3/20\n",
            "50000/50000 [==============================] - 296s 6ms/step - loss: 1.1511 - acc: 0.5863 - val_loss: 1.0423 - val_acc: 0.6353\n",
            "Epoch 4/20\n",
            "50000/50000 [==============================] - 296s 6ms/step - loss: 1.0309 - acc: 0.6336 - val_loss: 0.9311 - val_acc: 0.6752\n",
            "Epoch 5/20\n",
            "50000/50000 [==============================] - 295s 6ms/step - loss: 0.9328 - acc: 0.6695 - val_loss: 0.8850 - val_acc: 0.6862\n",
            "Epoch 6/20\n",
            "50000/50000 [==============================] - 295s 6ms/step - loss: 0.8764 - acc: 0.6883 - val_loss: 0.8205 - val_acc: 0.7105\n",
            "Epoch 7/20\n",
            "50000/50000 [==============================] - 295s 6ms/step - loss: 0.8086 - acc: 0.7129 - val_loss: 0.7655 - val_acc: 0.7327\n",
            "Epoch 8/20\n",
            "50000/50000 [==============================] - 296s 6ms/step - loss: 0.7630 - acc: 0.7292 - val_loss: 0.7340 - val_acc: 0.7401\n",
            "Epoch 9/20\n",
            "50000/50000 [==============================] - 293s 6ms/step - loss: 0.7230 - acc: 0.7449 - val_loss: 0.6991 - val_acc: 0.7604\n",
            "Epoch 10/20\n",
            "50000/50000 [==============================] - 291s 6ms/step - loss: 0.6904 - acc: 0.7563 - val_loss: 0.6824 - val_acc: 0.7608\n",
            "Epoch 11/20\n",
            "50000/50000 [==============================] - 290s 6ms/step - loss: 0.6588 - acc: 0.7687 - val_loss: 0.6572 - val_acc: 0.7730\n",
            "Epoch 12/20\n",
            "50000/50000 [==============================] - 291s 6ms/step - loss: 0.6302 - acc: 0.7786 - val_loss: 0.6541 - val_acc: 0.7730\n",
            "Epoch 13/20\n",
            "50000/50000 [==============================] - 292s 6ms/step - loss: 0.6066 - acc: 0.7847 - val_loss: 0.6380 - val_acc: 0.7798\n",
            "Epoch 14/20\n",
            "50000/50000 [==============================] - 292s 6ms/step - loss: 0.5885 - acc: 0.7919 - val_loss: 0.6436 - val_acc: 0.7785\n",
            "Epoch 15/20\n",
            "50000/50000 [==============================] - 292s 6ms/step - loss: 0.5617 - acc: 0.8009 - val_loss: 0.6322 - val_acc: 0.7829\n",
            "Epoch 16/20\n",
            "50000/50000 [==============================] - 292s 6ms/step - loss: 0.5490 - acc: 0.8070 - val_loss: 0.6324 - val_acc: 0.7840\n",
            "Epoch 17/20\n",
            "50000/50000 [==============================] - 292s 6ms/step - loss: 0.5288 - acc: 0.8114 - val_loss: 0.6143 - val_acc: 0.7876\n",
            "Epoch 18/20\n",
            "50000/50000 [==============================] - 294s 6ms/step - loss: 0.5060 - acc: 0.8198 - val_loss: 0.6258 - val_acc: 0.7858\n",
            "Epoch 19/20\n",
            "50000/50000 [==============================] - 293s 6ms/step - loss: 0.4943 - acc: 0.8256 - val_loss: 0.6098 - val_acc: 0.7918\n",
            "Epoch 20/20\n",
            "50000/50000 [==============================] - 292s 6ms/step - loss: 0.4773 - acc: 0.8305 - val_loss: 0.6002 - val_acc: 0.7950\n"
          ],
          "name": "stdout"
        },
        {
          "output_type": "execute_result",
          "data": {
            "text/plain": [
              "<keras.callbacks.History at 0x7f86334865c0>"
            ]
          },
          "metadata": {
            "tags": []
          },
          "execution_count": 35
        }
      ]
    },
    {
      "cell_type": "markdown",
      "metadata": {
        "id": "DFg8axMLST-A",
        "colab_type": "text"
      },
      "source": [
        "##Testing the Model "
      ]
    },
    {
      "cell_type": "code",
      "metadata": {
        "id": "kHG_WgDRkYcQ",
        "colab_type": "code",
        "colab": {
          "base_uri": "https://localhost:8080/",
          "height": 69
        },
        "outputId": "b3e409d8-8299-4faa-ee97-dffcd8d72529"
      },
      "source": [
        "results = model.evaluate(X_test,Y_test)\n",
        "\n",
        "print('Test loss : ',results[0])\n",
        "print('Test accuracy : ',results[1])"
      ],
      "execution_count": 36,
      "outputs": [
        {
          "output_type": "stream",
          "text": [
            "10000/10000 [==============================] - 17s 2ms/step\n",
            "Test loss :  0.6001823296546936\n",
            "Test accuracy :  0.795\n"
          ],
          "name": "stdout"
        }
      ]
    },
    {
      "cell_type": "code",
      "metadata": {
        "id": "iuuwqTXLm-RZ",
        "colab_type": "code",
        "colab": {}
      },
      "source": [
        ""
      ],
      "execution_count": 0,
      "outputs": []
    }
  ]
}